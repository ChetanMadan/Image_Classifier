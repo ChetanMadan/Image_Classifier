{
  "nbformat": 4,
  "nbformat_minor": 0,
  "metadata": {
    "colab": {
      "name": "Image_Classifier_NN.ipynb",
      "provenance": [],
      "authorship_tag": "ABX9TyNbde3Le5U33sC8aZHfZxYM",
      "include_colab_link": true
    },
    "kernelspec": {
      "name": "python3",
      "display_name": "Python 3"
    },
    "accelerator": "GPU"
  },
  "cells": [
    {
      "cell_type": "markdown",
      "metadata": {
        "id": "view-in-github",
        "colab_type": "text"
      },
      "source": [
        "<a href=\"https://colab.research.google.com/github/abhinavmangla/Image_Classifier/blob/master/Image_Classifier_NN.ipynb\" target=\"_parent\"><img src=\"https://colab.research.google.com/assets/colab-badge.svg\" alt=\"Open In Colab\"/></a>"
      ]
    },
    {
      "cell_type": "code",
      "metadata": {
        "id": "IbUAvY_5Vjcl",
        "colab_type": "code",
        "colab": {}
      },
      "source": [
        "import tensorflow as tf\n",
        "from tensorflow import keras"
      ],
      "execution_count": 0,
      "outputs": []
    },
    {
      "cell_type": "code",
      "metadata": {
        "id": "QL_XqUy8WonM",
        "colab_type": "code",
        "colab": {}
      },
      "source": [
        "# Loading the dataset using an api call. Fashion_MNIST is available in tf. \n",
        "fashion_mnist = keras.datasets.fashion_mnist\n",
        "#Dividing dataset into train and test\n",
        "(train_data, train_labels), (test_data, test_labels) = fashion_mnist.load_data()\n",
        "callbacks = MyCallback()"
      ],
      "execution_count": 0,
      "outputs": []
    },
    {
      "cell_type": "code",
      "metadata": {
        "id": "JTOfwjpSZlOs",
        "colab_type": "code",
        "colab": {}
      },
      "source": [
        "class MyCallback(keras.callbacks.Callback):\n",
        "  def on_epoch_end(self,epochs, logs={}):\n",
        "    if(logs.get('loss') < 0.2):\n",
        "      print('Stopping')\n",
        "      self.model.stop_training = True"
      ],
      "execution_count": 0,
      "outputs": []
    },
    {
      "cell_type": "code",
      "metadata": {
        "id": "zZL_sybYaLU0",
        "colab_type": "code",
        "colab": {}
      },
      "source": [
        "#Normalising the data\n",
        "train_data = train_data/255.0\n",
        "test_data = test_data/255.0"
      ],
      "execution_count": 0,
      "outputs": []
    },
    {
      "cell_type": "code",
      "metadata": {
        "id": "6x66Tz_aYBR2",
        "colab_type": "code",
        "colab": {}
      },
      "source": [
        "model = keras.Sequential([\n",
        "        #Takes a 28x28 square and converts it into a linear array\n",
        "        keras.layers.Flatten(),\n",
        "        keras.layers.Dense(128, activation=tf.nn.relu),\n",
        "        keras.layers.Dense(10, activation=tf.nn.softmax)\n",
        "])"
      ],
      "execution_count": 0,
      "outputs": []
    },
    {
      "cell_type": "code",
      "metadata": {
        "id": "Ix3_nNc2ldEM",
        "colab_type": "code",
        "colab": {}
      },
      "source": [
        "# Sequential: That defines a SEQUENCE of layers in the neural network\n",
        "\n",
        "# Flatten: Remember earlier where our images were a square, when you printed them out? Flatten just takes that square and turns it into a 1 dimensional set.\n",
        "\n",
        "# Dense: Adds a layer of neurons\n",
        "\n",
        "# Each layer of neurons need an activation function to tell them what to do. There's lots of options, but just use these for now.\n",
        "\n",
        "# Relu effectively means \"If X>0 return X, else return 0\" -- so what it does it it only passes values 0 or greater to the next layer in the network.\n",
        "\n",
        "# Softmax takes a set of values, and effectively picks the biggest one, so, for example, if the output of the last layer looks like [0.1, 0.1, 0.05, 0.1, 9.5, 0.1, 0.05, 0.05, 0.05], it saves you from fishing through it looking for the biggest value, and turns it into [0,0,0,0,1,0,0,0,0] -- The goal is to save a lot of coding!"
      ],
      "execution_count": 0,
      "outputs": []
    },
    {
      "cell_type": "code",
      "metadata": {
        "id": "GOhh1OMwa3Wo",
        "colab_type": "code",
        "colab": {
          "base_uri": "https://localhost:8080/",
          "height": 595
        },
        "outputId": "b340aea9-f0b0-48b4-ff27-e919c3a33c1f"
      },
      "source": [
        "# Compile and optimise the model\n",
        "model.compile(optimizer=tf.train.AdamOptimizer(),\n",
        "              loss = 'sparse_categorical_crossentropy')\n",
        "model.fit(train_data, train_labels, epochs=20, callbacks=[callbacks])"
      ],
      "execution_count": 61,
      "outputs": [
        {
          "output_type": "stream",
          "text": [
            "Train on 60000 samples\n",
            "Epoch 1/20\n",
            "60000/60000 [==============================] - 5s 78us/sample - loss: 0.4993\n",
            "Epoch 2/20\n",
            "60000/60000 [==============================] - 4s 74us/sample - loss: 0.3799\n",
            "Epoch 3/20\n",
            "60000/60000 [==============================] - 4s 75us/sample - loss: 0.3374\n",
            "Epoch 4/20\n",
            "60000/60000 [==============================] - 4s 74us/sample - loss: 0.3143\n",
            "Epoch 5/20\n",
            "60000/60000 [==============================] - 4s 72us/sample - loss: 0.2965\n",
            "Epoch 6/20\n",
            "60000/60000 [==============================] - 4s 72us/sample - loss: 0.2800\n",
            "Epoch 7/20\n",
            "60000/60000 [==============================] - 4s 74us/sample - loss: 0.2690\n",
            "Epoch 8/20\n",
            "60000/60000 [==============================] - 4s 75us/sample - loss: 0.2580\n",
            "Epoch 9/20\n",
            "60000/60000 [==============================] - 5s 78us/sample - loss: 0.2467\n",
            "Epoch 10/20\n",
            "60000/60000 [==============================] - 4s 73us/sample - loss: 0.2383\n",
            "Epoch 11/20\n",
            "60000/60000 [==============================] - 4s 72us/sample - loss: 0.2305\n",
            "Epoch 12/20\n",
            "60000/60000 [==============================] - 4s 72us/sample - loss: 0.2223\n",
            "Epoch 13/20\n",
            "60000/60000 [==============================] - 4s 74us/sample - loss: 0.2169\n",
            "Epoch 14/20\n",
            "60000/60000 [==============================] - 4s 72us/sample - loss: 0.2082\n",
            "Epoch 15/20\n",
            "60000/60000 [==============================] - 4s 74us/sample - loss: 0.2038\n",
            "Epoch 16/20\n",
            "60000/60000 [==============================] - 4s 74us/sample - loss: 0.1985\n"
          ],
          "name": "stdout"
        },
        {
          "output_type": "execute_result",
          "data": {
            "text/plain": [
              "<tensorflow.python.keras.callbacks.History at 0x7fda7c2209e8>"
            ]
          },
          "metadata": {
            "tags": []
          },
          "execution_count": 61
        }
      ]
    },
    {
      "cell_type": "code",
      "metadata": {
        "id": "LgzXUA7-bltQ",
        "colab_type": "code",
        "colab": {
          "base_uri": "https://localhost:8080/",
          "height": 51
        },
        "outputId": "c4c8698a-1895-4f3c-bdcf-f956b0fa6542"
      },
      "source": [
        "model.evaluate(test_data, test_labels)"
      ],
      "execution_count": 62,
      "outputs": [
        {
          "output_type": "stream",
          "text": [
            "10000/10000 [==============================] - 1s 60us/sample - loss: 0.3459\n"
          ],
          "name": "stdout"
        },
        {
          "output_type": "execute_result",
          "data": {
            "text/plain": [
              "0.3458653672337532"
            ]
          },
          "metadata": {
            "tags": []
          },
          "execution_count": 62
        }
      ]
    },
    {
      "cell_type": "code",
      "metadata": {
        "id": "YS_x1MEDcmWM",
        "colab_type": "code",
        "colab": {
          "base_uri": "https://localhost:8080/",
          "height": 68
        },
        "outputId": "8cb296c3-ba2d-4a2a-f28c-08a661f8ab95"
      },
      "source": [
        "classifications = model.predict(test_data)\n",
        "print(classifications[0])\n",
        "print(test_labels[0])"
      ],
      "execution_count": 63,
      "outputs": [
        {
          "output_type": "stream",
          "text": [
            "[8.1019283e-07 7.1564963e-09 3.3743917e-11 2.4439400e-12 2.3161631e-08\n",
            " 2.2032915e-05 3.0211993e-07 3.4157028e-03 1.8444236e-08 9.9656111e-01]\n",
            "9\n"
          ],
          "name": "stdout"
        }
      ]
    },
    {
      "cell_type": "code",
      "metadata": {
        "id": "IwYozLfIn1hT",
        "colab_type": "code",
        "colab": {}
      },
      "source": [
        ""
      ],
      "execution_count": 0,
      "outputs": []
    }
  ]
}